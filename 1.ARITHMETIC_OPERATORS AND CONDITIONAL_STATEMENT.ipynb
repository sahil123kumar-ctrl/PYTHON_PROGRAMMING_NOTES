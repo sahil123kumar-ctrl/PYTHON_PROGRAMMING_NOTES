{
 "cells": [
  {
   "cell_type": "markdown",
   "id": "e1f905cc-3568-46e8-a2ef-bda741736ea2",
   "metadata": {},
   "source": [
    "# ARITHMETIC OPERATORS IN PYTHON:"
   ]
  },
  {
   "cell_type": "code",
   "execution_count": null,
   "id": "1019a039-0b04-4196-a9aa-e398ba03d1a4",
   "metadata": {},
   "outputs": [],
   "source": [
    "1.ADDITION.(+)\n",
    "2.SUBTRACTION.(-)\n",
    "3.MULTIPLICATION.(*)\n",
    "4.DIVISION.(/)\n",
    "5.FLOOR DIVISION. (//)\n",
    "6.MODULUS.(%)\n",
    "7.EXPONENTIAL.(**)"
   ]
  },
  {
   "cell_type": "code",
   "execution_count": null,
   "id": "7afc4a8f-e0b9-40ea-9dee-17ed1ced9bdd",
   "metadata": {},
   "outputs": [],
   "source": [
    "# 1. WHAT IS THE DIFFERENCE BETWEEN DIVISION AND FLOOR DIVISION:\n",
    "\n",
    "# 1 . / (Division) returns a floating-point result, even if both operands are integers.\n",
    "\n",
    "# FOR EX : 5/2 = 2.5\n",
    "\n",
    "# 2 . // (Floor Division) truncates the decimal part and returns only the integer quotient.\n",
    "\n",
    "# FOR EX : 5//2 = 2 (REMOVES THE DECIMAL PART )\n",
    "\n",
    "# FOR EX: -5//2 = -3 (IT WILL ROUNDS TO THE NEAREST LOWEST INTEGER)"
   ]
  },
  {
   "cell_type": "code",
   "execution_count": 5,
   "id": "699214b2-9355-4a55-a2a5-fd61a0766c3d",
   "metadata": {},
   "outputs": [
    {
     "data": {
      "text/plain": [
       "4.5"
      ]
     },
     "execution_count": 5,
     "metadata": {},
     "output_type": "execute_result"
    }
   ],
   "source": [
    "9/2"
   ]
  },
  {
   "cell_type": "code",
   "execution_count": 7,
   "id": "0874affa-d218-4aa2-9df4-9442a748d1f8",
   "metadata": {},
   "outputs": [
    {
     "data": {
      "text/plain": [
       "4"
      ]
     },
     "execution_count": 7,
     "metadata": {},
     "output_type": "execute_result"
    }
   ],
   "source": [
    "9//2"
   ]
  },
  {
   "cell_type": "code",
   "execution_count": 9,
   "id": "bd1e0c07-8595-4f36-a3ff-996ac6f03e7d",
   "metadata": {},
   "outputs": [
    {
     "data": {
      "text/plain": [
       "-5"
      ]
     },
     "execution_count": 9,
     "metadata": {},
     "output_type": "execute_result"
    }
   ],
   "source": [
    "-9//2"
   ]
  },
  {
   "cell_type": "code",
   "execution_count": 19,
   "id": "7bb00479-9b7e-4388-91bb-eef19f6c3019",
   "metadata": {},
   "outputs": [
    {
     "data": {
      "text/plain": [
       "-4.75"
      ]
     },
     "execution_count": 19,
     "metadata": {},
     "output_type": "execute_result"
    }
   ],
   "source": [
    "-9.5/2"
   ]
  },
  {
   "cell_type": "code",
   "execution_count": 21,
   "id": "313927bd-90a3-4bd8-9fa5-8e17a4db4f4c",
   "metadata": {},
   "outputs": [
    {
     "data": {
      "text/plain": [
       "4.0"
      ]
     },
     "execution_count": 21,
     "metadata": {},
     "output_type": "execute_result"
    }
   ],
   "source": [
    "9.5//2"
   ]
  },
  {
   "cell_type": "code",
   "execution_count": 23,
   "id": "cea3135a-dfd3-4c3e-8b02-c14c0837d73c",
   "metadata": {},
   "outputs": [
    {
     "data": {
      "text/plain": [
       "-5.0"
      ]
     },
     "execution_count": 23,
     "metadata": {},
     "output_type": "execute_result"
    }
   ],
   "source": [
    "-9.5//2"
   ]
  },
  {
   "cell_type": "code",
   "execution_count": null,
   "id": "c57a98d6-1e21-4e14-a39c-f6f8c70f7752",
   "metadata": {},
   "outputs": [],
   "source": [
    "# 2. WHAT IS THE MODULUS OPERATOR:\n",
    "\n",
    "# The modulus operator (%) returns the remainder of a division.\n",
    "\n",
    "# FORMULA : a%b=a−(a//b)∗b\n",
    "\n",
    "# -7%3 = -7-(-7//3)*3\n",
    "#      = -7-(-3)*3\n",
    "#      = -7-(-9)\n",
    "#      = -7 + 9\n",
    "#      = 2"
   ]
  },
  {
   "cell_type": "code",
   "execution_count": 50,
   "id": "991cf409-c7cf-46c8-bc3b-655893c93683",
   "metadata": {},
   "outputs": [
    {
     "name": "stdout",
     "output_type": "stream",
     "text": [
      "1\n",
      "\n",
      "0\n",
      "\n",
      "0\n",
      "\n",
      "1\n",
      "\n",
      "2\n"
     ]
    }
   ],
   "source": [
    "print(10%3)\n",
    "\n",
    "print()\n",
    "\n",
    "print(9%9)\n",
    "\n",
    "print()\n",
    "\n",
    "print(0%9)\n",
    "\n",
    "print()\n",
    "\n",
    "print(-9%2)\n",
    "\n",
    "print()\n",
    "\n",
    "print(-7%3)"
   ]
  },
  {
   "cell_type": "code",
   "execution_count": null,
   "id": "f9119a0b-9250-4f5b-9de7-74b05707e0df",
   "metadata": {},
   "outputs": [],
   "source": [
    "# 3. What happens when arithmetic operations are performed between int and float types?\n",
    "\n",
    "# If an arithmetic operation involves both int and float, Python automatically converts the result to a float."
   ]
  },
  {
   "cell_type": "code",
   "execution_count": 42,
   "id": "b89ae69e-dc3a-4e9e-b492-b15e7bf7eb39",
   "metadata": {},
   "outputs": [
    {
     "name": "stdout",
     "output_type": "stream",
     "text": [
      "7.0\n",
      "5.0\n",
      "2.0\n"
     ]
    }
   ],
   "source": [
    "print(5 + 2.0)   \n",
    "print(10 / 2)    \n",
    "print(5 // 2.0)"
   ]
  },
  {
   "cell_type": "code",
   "execution_count": null,
   "id": "9b2c545b-4537-473e-92cb-6ba343d91d2d",
   "metadata": {},
   "outputs": [],
   "source": [
    "4 .What is operator precedence? Give an example where precedence affects the output.\n",
    "Operator precedence determines the order in which operators are evaluated in an expression.\n",
    "\n",
    "Precedence order (from highest to lowest):\n",
    "\n",
    "1.** (Exponentiation)\n",
    "\n",
    "2.*, /, //, % (Multiplication, Division, Floor Division, Modulus)\n",
    "\n",
    "3.+, - (Addition, Subtraction)"
   ]
  },
  {
   "cell_type": "code",
   "execution_count": 52,
   "id": "e6ec0b8f-bcb6-41ea-b6aa-2565f27d0ed9",
   "metadata": {},
   "outputs": [
    {
     "name": "stdout",
     "output_type": "stream",
     "text": [
      "13\n",
      "16\n"
     ]
    }
   ],
   "source": [
    "print(3 + 5 * 2)      # (* has higher precedence than +)\n",
    "print((3 + 5) * 2)    #  (Parentheses change precedence)\n"
   ]
  },
  {
   "cell_type": "raw",
   "id": "26e90563-9eec-4df0-a1f7-99fa3eb83bdd",
   "metadata": {},
   "source": [
    "5. POWER FUNCTION:"
   ]
  },
  {
   "cell_type": "code",
   "execution_count": 61,
   "id": "9ddd6c2f-619f-43d8-89c8-5cd1c88fc750",
   "metadata": {},
   "outputs": [
    {
     "name": "stdout",
     "output_type": "stream",
     "text": [
      "8\n"
     ]
    }
   ],
   "source": [
    "print(2**3)"
   ]
  },
  {
   "cell_type": "code",
   "execution_count": 63,
   "id": "7269127e-1553-4fce-a8fa-5dafbdeece0f",
   "metadata": {},
   "outputs": [
    {
     "name": "stdout",
     "output_type": "stream",
     "text": [
      "16\n"
     ]
    }
   ],
   "source": [
    "print(2**(2**2))"
   ]
  },
  {
   "cell_type": "code",
   "execution_count": 65,
   "id": "0604fcf2-f92a-47b4-b702-4ecf3c462390",
   "metadata": {},
   "outputs": [
    {
     "name": "stdout",
     "output_type": "stream",
     "text": [
      "-4\n"
     ]
    }
   ],
   "source": [
    "print(-2**2)"
   ]
  },
  {
   "cell_type": "code",
   "execution_count": 67,
   "id": "5cfd7c0e-c0b7-4978-854a-625743b48e19",
   "metadata": {},
   "outputs": [
    {
     "name": "stdout",
     "output_type": "stream",
     "text": [
      "4\n"
     ]
    }
   ],
   "source": [
    "print((-2)**2)"
   ]
  },
  {
   "cell_type": "code",
   "execution_count": 69,
   "id": "d050253e-b248-4afe-8ef4-d91fc38952c1",
   "metadata": {},
   "outputs": [
    {
     "name": "stdout",
     "output_type": "stream",
     "text": [
      "4.0\n"
     ]
    }
   ],
   "source": [
    "# square root:\n",
    "\n",
    "print(16**0.5)"
   ]
  },
  {
   "cell_type": "code",
   "execution_count": 73,
   "id": "2859b9cf-0e8c-474f-8316-0e50c3bf9c6d",
   "metadata": {},
   "outputs": [
    {
     "name": "stdout",
     "output_type": "stream",
     "text": [
      "9.0\n"
     ]
    }
   ],
   "source": [
    "# cuber root:\n",
    "\n",
    "print(27**1/3)"
   ]
  },
  {
   "cell_type": "code",
   "execution_count": 75,
   "id": "8d0a83ef-45c1-4cae-bde9-f186738266da",
   "metadata": {},
   "outputs": [
    {
     "data": {
      "text/plain": [
       "81"
      ]
     },
     "execution_count": 75,
     "metadata": {},
     "output_type": "execute_result"
    }
   ],
   "source": [
    "3**2**2"
   ]
  },
  {
   "cell_type": "markdown",
   "id": "85d0dc02-bd47-482e-b275-91544be64538",
   "metadata": {},
   "source": [
    "# QUESTIONS FOR PRACTISE:"
   ]
  },
  {
   "cell_type": "code",
   "execution_count": null,
   "id": "b2e2e5d7-d934-4e3e-bae4-b0f686189b1b",
   "metadata": {},
   "outputs": [],
   "source": [
    "1. CONVERT FAHREHENHIT TO CELSIUS:"
   ]
  },
  {
   "cell_type": "code",
   "execution_count": 7,
   "id": "500d7d09-03ac-4e6a-a858-e6be82a7b677",
   "metadata": {},
   "outputs": [
    {
     "name": "stdin",
     "output_type": "stream",
     "text": [
      "entr the f: 100\n"
     ]
    },
    {
     "name": "stdout",
     "output_type": "stream",
     "text": [
      "37.77777777777778\n"
     ]
    }
   ],
   "source": [
    "f = float(input(\"entr the f:\"))\n",
    "c = (f-32)*(5.0)/(9.0)\n",
    "print(c)"
   ]
  },
  {
   "cell_type": "code",
   "execution_count": null,
   "id": "6cd46c6e-892f-4137-9a68-92c985e619d6",
   "metadata": {},
   "outputs": [],
   "source": []
  },
  {
   "cell_type": "code",
   "execution_count": null,
   "id": "f4bdc6a2-12a0-44cb-93f2-a7dfc487fbb7",
   "metadata": {},
   "outputs": [],
   "source": [
    "2. ADD LAST TWO DIGITS:"
   ]
  },
  {
   "cell_type": "code",
   "execution_count": 11,
   "id": "51b6c507-02de-4b13-b9b9-ba530e2edea7",
   "metadata": {},
   "outputs": [
    {
     "name": "stdin",
     "output_type": "stream",
     "text": [
      " 34\n",
      " 34\n"
     ]
    },
    {
     "name": "stdout",
     "output_type": "stream",
     "text": [
      "8\n"
     ]
    }
   ],
   "source": [
    "a = int(input())\n",
    "b = int(input())\n",
    "c = a%10\n",
    "d = b%10\n",
    "e = c+d\n",
    "print(e)"
   ]
  },
  {
   "cell_type": "code",
   "execution_count": null,
   "id": "dd6fa1e8-5ab3-45f4-8bef-b9f54118a59a",
   "metadata": {},
   "outputs": [],
   "source": []
  },
  {
   "cell_type": "code",
   "execution_count": null,
   "id": "76a1d34a-2fd7-470b-b76e-f0108d9b7335",
   "metadata": {},
   "outputs": [],
   "source": [
    "3.  program to check if a given integer is a multiple of 5 and ends with 0:"
   ]
  },
  {
   "cell_type": "code",
   "execution_count": 16,
   "id": "0e2f8145-32ad-4578-bde8-b873d1e4a10a",
   "metadata": {},
   "outputs": [
    {
     "name": "stdin",
     "output_type": "stream",
     "text": [
      "enter the no: 250\n"
     ]
    },
    {
     "name": "stdout",
     "output_type": "stream",
     "text": [
      "condition satisfies\n"
     ]
    }
   ],
   "source": [
    "n = int(input(\"enter the no:\"))\n",
    "if n%5==0 and n%10==0:\n",
    "    print(\"condition satisfies\")\n",
    "else:\n",
    "    print(\"condition not satisfied\")"
   ]
  },
  {
   "cell_type": "code",
   "execution_count": null,
   "id": "e35bede1-c750-4925-a7c4-b8e7238de292",
   "metadata": {},
   "outputs": [],
   "source": []
  },
  {
   "cell_type": "code",
   "execution_count": null,
   "id": "769fcc84-37e5-4d1b-aa3a-2b058cf1a26e",
   "metadata": {},
   "outputs": [],
   "source": [
    "4. Write a program that takes an integer input and checks if the number is strictly between 50 and 150."
   ]
  },
  {
   "cell_type": "code",
   "execution_count": null,
   "id": "2c1ad7ea-2b70-4c8a-8f86-bc2b7e48f097",
   "metadata": {},
   "outputs": [],
   "source": [
    "x = int(input(\"enter th number\"))\n",
    "\n",
    "if 50 < x < 150:\n",
    "    print(\"True\")\n",
    "else:\n",
    "    print(\"False\")"
   ]
  },
  {
   "cell_type": "code",
   "execution_count": null,
   "id": "0aca1e70-9b26-4eb3-88e9-51cda08bb4fe",
   "metadata": {},
   "outputs": [],
   "source": []
  },
  {
   "cell_type": "code",
   "execution_count": null,
   "id": "ab403350-17e3-47b2-aaad-c71b3aa9f0bf",
   "metadata": {},
   "outputs": [],
   "source": [
    "5 .Write a program to check if the given integer is a two-digit number."
   ]
  },
  {
   "cell_type": "code",
   "execution_count": null,
   "id": "556f6239-b82d-4a9f-9c3b-db4021661f0f",
   "metadata": {},
   "outputs": [],
   "source": [
    "x = int(input(\"enter the number\"))\n",
    "\n",
    "if 10<= x <=99:\n",
    "    print(\"true\")\n",
    "else:\n",
    "    print(\"false\")"
   ]
  },
  {
   "cell_type": "code",
   "execution_count": null,
   "id": "fa0d3d70-800a-4240-a090-ea95630dccf2",
   "metadata": {},
   "outputs": [],
   "source": []
  },
  {
   "cell_type": "code",
   "execution_count": null,
   "id": "22e2a893-4feb-44bb-b904-c2f8aa8f67da",
   "metadata": {},
   "outputs": [],
   "source": [
    "6 Write a program that takes a positive integer and checks if the sum of its digits is greater than 10."
   ]
  },
  {
   "cell_type": "code",
   "execution_count": 18,
   "id": "b13fef46-836f-4d00-a531-a1caf9ca6b12",
   "metadata": {},
   "outputs": [
    {
     "name": "stdin",
     "output_type": "stream",
     "text": [
      "enter the number: 2455\n"
     ]
    },
    {
     "name": "stdout",
     "output_type": "stream",
     "text": [
      "16\n",
      "True\n"
     ]
    }
   ],
   "source": [
    "n=int(input(\"enter the number:\"))\n",
    "total_sum = 0\n",
    "for i in str(n):\n",
    "    total_sum = total_sum + int(i)\n",
    "print(total_sum)\n",
    "print(total_sum>10)\n",
    "    "
   ]
  },
  {
   "cell_type": "code",
   "execution_count": null,
   "id": "7d6482dd-f04e-433a-8f5d-ea6c1636d2ea",
   "metadata": {},
   "outputs": [],
   "source": []
  },
  {
   "cell_type": "code",
   "execution_count": null,
   "id": "e04a05a2-368c-45a7-bc37-100d54da8a19",
   "metadata": {},
   "outputs": [],
   "source": [
    "7. Write a program that checks whether a given number is odd and greater than 200."
   ]
  },
  {
   "cell_type": "code",
   "execution_count": 20,
   "id": "7eec6f0c-90e7-4b3d-a894-1ca7042eadd8",
   "metadata": {},
   "outputs": [
    {
     "name": "stdin",
     "output_type": "stream",
     "text": [
      "enter the number: 341\n"
     ]
    },
    {
     "name": "stdout",
     "output_type": "stream",
     "text": [
      "True\n"
     ]
    }
   ],
   "source": [
    "n = int(input(\"enter the number:\"))\n",
    "if n%2!=0 and n>200:\n",
    "    print(True)\n",
    "else :\n",
    "    print(False)"
   ]
  },
  {
   "cell_type": "code",
   "execution_count": null,
   "id": "55af5184-0036-4cd3-a45c-bd71f063e96b",
   "metadata": {},
   "outputs": [],
   "source": []
  },
  {
   "cell_type": "code",
   "execution_count": null,
   "id": "8a8d7767-27a4-44a9-b2c3-80a2eaf3f467",
   "metadata": {},
   "outputs": [],
   "source": [
    "8. Write a program to check all the digits in the integer are same or not:"
   ]
  },
  {
   "cell_type": "code",
   "execution_count": 25,
   "id": "0d82bf1c-c556-4132-86ac-989f2a1f44c2",
   "metadata": {},
   "outputs": [
    {
     "name": "stdin",
     "output_type": "stream",
     "text": [
      "enter the number 222\n"
     ]
    },
    {
     "name": "stdout",
     "output_type": "stream",
     "text": [
      "True\n"
     ]
    }
   ],
   "source": [
    "x = int(input(\"enter the number\"))\n",
    "y=str(x)\n",
    "if len(set(y))==1:\n",
    "    print(True)\n",
    "else:\n",
    "    print(False)"
   ]
  },
  {
   "cell_type": "code",
   "execution_count": null,
   "id": "35ec0a4d-6f38-4734-abba-2394f407566b",
   "metadata": {},
   "outputs": [],
   "source": []
  },
  {
   "cell_type": "code",
   "execution_count": null,
   "id": "a39eb19b-5f01-40a3-819d-6fa45270ba08",
   "metadata": {},
   "outputs": [],
   "source": [
    "9 . write a program to check whether a number is a perfect square or not :"
   ]
  },
  {
   "cell_type": "code",
   "execution_count": 35,
   "id": "b5fe4930-aeeb-49f3-acff-92b89eab88c4",
   "metadata": {},
   "outputs": [
    {
     "name": "stdin",
     "output_type": "stream",
     "text": [
      "enter the number 4\n"
     ]
    },
    {
     "name": "stdout",
     "output_type": "stream",
     "text": [
      "perfect square\n"
     ]
    }
   ],
   "source": [
    "x = int(input(\"enter the number\"))\n",
    "if x>0 and int(x**0.5)**2==x:\n",
    "    print(\"perfect square\")\n",
    "else:\n",
    "    print(\"not perfect square\")"
   ]
  },
  {
   "cell_type": "code",
   "execution_count": null,
   "id": "357b3d38-4011-4f9f-a0e9-ddf74bcf05ad",
   "metadata": {},
   "outputs": [],
   "source": []
  },
  {
   "cell_type": "code",
   "execution_count": null,
   "id": "6dbc69db-98e0-41ec-92ac-147fee89d444",
   "metadata": {},
   "outputs": [],
   "source": [
    "10 . Write a program to check whether the given number contains the digit 7 at least once."
   ]
  },
  {
   "cell_type": "code",
   "execution_count": 39,
   "id": "e724f1fe-e834-44de-9caa-e59270f60d5e",
   "metadata": {},
   "outputs": [
    {
     "name": "stdin",
     "output_type": "stream",
     "text": [
      "enter the number 45\n"
     ]
    },
    {
     "name": "stdout",
     "output_type": "stream",
     "text": [
      "False\n"
     ]
    }
   ],
   "source": [
    "x = int(input(\"enter the number\"))\n",
    "if \"7\" in str(x):\n",
    "    print(\"True\")\n",
    "else:\n",
    "    print(\"False\")"
   ]
  },
  {
   "cell_type": "code",
   "execution_count": null,
   "id": "463877a1-4a89-4731-9daf-582b396b4075",
   "metadata": {},
   "outputs": [],
   "source": []
  },
  {
   "cell_type": "code",
   "execution_count": null,
   "id": "bcace46c-5d82-4adf-868d-fb2b0ffec66b",
   "metadata": {},
   "outputs": [],
   "source": [
    "11.  Check if a Number's Last Digit is Greater than Its First Digit"
   ]
  },
  {
   "cell_type": "code",
   "execution_count": 45,
   "id": "6bccdc75-06dc-46ae-a916-a034f9b51c13",
   "metadata": {},
   "outputs": [
    {
     "name": "stdin",
     "output_type": "stream",
     "text": [
      "enter the number 567\n"
     ]
    },
    {
     "name": "stdout",
     "output_type": "stream",
     "text": [
      "true\n"
     ]
    }
   ],
   "source": [
    "x = input(\"enter the number\")\n",
    "if x[-1] > x[0]:\n",
    "    print(\"true\")\n",
    "else:\n",
    "    print(\"false\")"
   ]
  },
  {
   "cell_type": "code",
   "execution_count": null,
   "id": "f2d8a300-5e56-4ca3-9685-a9a6b45e49c4",
   "metadata": {},
   "outputs": [],
   "source": []
  },
  {
   "cell_type": "code",
   "execution_count": null,
   "id": "9fb6a9a4-005b-46c2-a07b-63defe4ea269",
   "metadata": {},
   "outputs": [],
   "source": [
    "12 .program to check a number is both pallindrome and even_number:"
   ]
  },
  {
   "cell_type": "code",
   "execution_count": 49,
   "id": "e76dbef1-f08b-436c-8a9e-0fb1aa88cfa3",
   "metadata": {},
   "outputs": [
    {
     "name": "stdin",
     "output_type": "stream",
     "text": [
      "enter the number 1232\n"
     ]
    },
    {
     "name": "stdout",
     "output_type": "stream",
     "text": [
      "not pallindrome and even\n"
     ]
    }
   ],
   "source": [
    "x = int(input(\"enter the number\"))\n",
    "if str(x)==str(x)[::-1] and x%2 == 0:\n",
    "    print(\"pallindrome and even\")\n",
    "else:\n",
    "    print(\"not pallindrome and even\")"
   ]
  },
  {
   "cell_type": "code",
   "execution_count": null,
   "id": "7e758303-05ee-4d1a-b734-f7aa5b116cf5",
   "metadata": {},
   "outputs": [],
   "source": []
  },
  {
   "cell_type": "code",
   "execution_count": null,
   "id": "91adc854-5b47-424b-96a7-07fd17582685",
   "metadata": {},
   "outputs": [],
   "source": [
    "13 Python program to take two integers as input and print True if the sum of their digits is equal, otherwise print False:"
   ]
  },
  {
   "cell_type": "code",
   "execution_count": 55,
   "id": "10500790-e3b4-4b11-8cfd-72813d88d65a",
   "metadata": {},
   "outputs": [
    {
     "name": "stdin",
     "output_type": "stream",
     "text": [
      "1st num 123\n",
      "2nd num 321\n"
     ]
    },
    {
     "name": "stdout",
     "output_type": "stream",
     "text": [
      "True\n"
     ]
    }
   ],
   "source": [
    "def sum_of_digit(n):\n",
    "    return sum(int(digit) for digit in str(n))\n",
    "\n",
    "x = int(input(\"1st num\"))\n",
    "y = int(input(\"2nd num\"))\n",
    "\n",
    "sum_x = sum_of_digit(x)\n",
    "sum_y =sum_of_digit(y)\n",
    "\n",
    "print(sum_x == sum_y)"
   ]
  },
  {
   "cell_type": "code",
   "execution_count": null,
   "id": "9936c694-2b28-4cfd-927d-77cdebfb46d0",
   "metadata": {},
   "outputs": [],
   "source": []
  },
  {
   "cell_type": "code",
   "execution_count": null,
   "id": "ef7907c0-c8a3-4939-9e44-59dd7caccee9",
   "metadata": {},
   "outputs": [],
   "source": [
    "14 TO check the consecutive numbers:"
   ]
  },
  {
   "cell_type": "code",
   "execution_count": 69,
   "id": "b14cdc9a-95cf-43ca-a3e0-28db2db3a274",
   "metadata": {},
   "outputs": [
    {
     "name": "stdin",
     "output_type": "stream",
     "text": [
      "1st number 1\n",
      "2nd number 2\n",
      "3rd number 3\n",
      "4th number 4\n"
     ]
    },
    {
     "name": "stdout",
     "output_type": "stream",
     "text": [
      "consecutive numbers\n"
     ]
    }
   ],
   "source": [
    "x = int(input(\"1st number\"))\n",
    "y = int(input(\"2nd number\"))\n",
    "w = int(input(\"3rd number\"))\n",
    "z = int(input(\"4th number\"))\n",
    "\n",
    "if y-x == w-y == z-w:\n",
    "    print(\"consecutive numbers\")\n",
    "else:\n",
    "    print(\"not consecutive numbers\")\n",
    "              "
   ]
  },
  {
   "cell_type": "code",
   "execution_count": null,
   "id": "2932f2b5-3b5f-45c9-8394-ceb60358d99c",
   "metadata": {},
   "outputs": [],
   "source": []
  },
  {
   "cell_type": "code",
   "execution_count": null,
   "id": "efa1b40e-61b7-47a8-9879-db06c0433dd0",
   "metadata": {},
   "outputs": [],
   "source": [
    "15  factorial numbers:"
   ]
  },
  {
   "cell_type": "code",
   "execution_count": 73,
   "id": "7522e044-0036-4128-b00b-705678ad147d",
   "metadata": {},
   "outputs": [],
   "source": [
    "import math"
   ]
  },
  {
   "cell_type": "code",
   "execution_count": 75,
   "id": "279e7310-f11f-432e-933d-43ebe8aa67e2",
   "metadata": {},
   "outputs": [
    {
     "name": "stdin",
     "output_type": "stream",
     "text": [
      "enter the number 5\n"
     ]
    },
    {
     "name": "stdout",
     "output_type": "stream",
     "text": [
      "120\n"
     ]
    }
   ],
   "source": [
    "m = int(input(\"enter the number\"))\n",
    "fact_m = math.factorial(m)\n",
    "print(fact_m)"
   ]
  },
  {
   "cell_type": "code",
   "execution_count": null,
   "id": "c60515d9-856d-4592-9242-adee8beff8ea",
   "metadata": {},
   "outputs": [],
   "source": []
  },
  {
   "cell_type": "code",
   "execution_count": null,
   "id": "b671735c-0284-41d0-a38b-3802d7cfd5a9",
   "metadata": {},
   "outputs": [],
   "source": [
    "16. Number Classification\n",
    "Write a program that asks the user to enter an integer.\n",
    "\n",
    "If the number is divisible by both 3 and 5, print \"Divisible by 3 and 5\".\n",
    "If it is only divisible by 3, print \"Divisible by 3\".\n",
    "If it is only divisible by 5, print \"Divisible by 5\".\n",
    "Otherwise, print \"Not divisible by 3 or 5\"."
   ]
  },
  {
   "cell_type": "code",
   "execution_count": 77,
   "id": "f5a45357-4470-4eab-a5c4-1f383a07d226",
   "metadata": {},
   "outputs": [
    {
     "name": "stdin",
     "output_type": "stream",
     "text": [
      "Enter an integer:  50\n"
     ]
    },
    {
     "name": "stdout",
     "output_type": "stream",
     "text": [
      "Divisible by 5\n"
     ]
    }
   ],
   "source": [
    "def classify_number():\n",
    "    \n",
    "    number = int(input(\"Enter an integer: \"))\n",
    "    \n",
    "    if number % 3 == 0 and number % 5 == 0:\n",
    "        print(\"Divisible by 3 and 5\")\n",
    "    elif number % 3 == 0:\n",
    "        print(\"Divisible by 3\")\n",
    "    elif number % 5 == 0:\n",
    "        print(\"Divisible by 5\")\n",
    "    else:\n",
    "        print(\"Not divisible by 3 or 5\")\n",
    "\n",
    "classify_number()"
   ]
  },
  {
   "cell_type": "code",
   "execution_count": null,
   "id": "41b04a6d-e6b0-40a9-becf-609c9b98f7a3",
   "metadata": {},
   "outputs": [],
   "source": []
  },
  {
   "cell_type": "code",
   "execution_count": null,
   "id": "41f5caef-0100-44dd-8180-4fd93a451b50",
   "metadata": {},
   "outputs": [],
   "source": [
    "17 Triangle Type Checker\n",
    "Ask the user to enter three side lengths of a triangle.\n",
    "\n",
    "If all sides are equal, print \"Equilateral Triangle\".\n",
    "If exactly two sides are equal, print \"Isosceles Triangle\".\n",
    "Otherwise, print \"Scalene Triangle\"."
   ]
  },
  {
   "cell_type": "code",
   "execution_count": 83,
   "id": "f70994e0-23f7-46af-9012-67bf43c3e949",
   "metadata": {},
   "outputs": [
    {
     "name": "stdin",
     "output_type": "stream",
     "text": [
      "enter the first side 1\n",
      "enter the 2nd side 2\n",
      "enter the 3rd side 3\n"
     ]
    },
    {
     "name": "stdout",
     "output_type": "stream",
     "text": [
      "sacelene triangle\n"
     ]
    }
   ],
   "source": [
    "x = int(input(\"enter the first side\"))\n",
    "y = int(input(\"enter the 2nd side\"))\n",
    "z = int(input(\"enter the 3rd side\"))\n",
    "\n",
    "if x == y == z:\n",
    "    print(\"equilateral_triangle\")\n",
    "elif x == y or y==z or z==x:\n",
    "    print(\"isosceles triangle\")\n",
    "else:\n",
    "    print(\"sacelene triangle\")"
   ]
  },
  {
   "cell_type": "code",
   "execution_count": null,
   "id": "b8b3a784-f557-415a-a5bd-b8e56b2def4b",
   "metadata": {},
   "outputs": [],
   "source": []
  },
  {
   "cell_type": "code",
   "execution_count": null,
   "id": "d05d9753-d8d4-475c-9d75-43d37aea5c6d",
   "metadata": {},
   "outputs": [],
   "source": [
    "18.Number Sign and Range Check\n",
    "Ask the user to enter an integer.\n",
    "\n",
    "If the number is positive, check if it is greater than 100:\n",
    "If yes, print \"Positive and greater than 100\".\n",
    "Otherwise, print \"Positive but not greater than 100\".\n",
    "If the number is negative, print \"Negative number\".\n",
    "If the number is zero, print \"Zero\"."
   ]
  },
  {
   "cell_type": "code",
   "execution_count": 85,
   "id": "ae92c6a5-1b68-4bf8-a0e4-c061541c4165",
   "metadata": {},
   "outputs": [
    {
     "name": "stdin",
     "output_type": "stream",
     "text": [
      "enter the integer 123\n"
     ]
    },
    {
     "name": "stdout",
     "output_type": "stream",
     "text": [
      "positive and greater than 100\n"
     ]
    }
   ],
   "source": [
    "x = int(input(\"enter the integer\"))\n",
    "if x>0:\n",
    "    if x>100:\n",
    "        print(\"positive and greater than 100\")\n",
    "    else:\n",
    "        print(\"positive but less than 100\")\n",
    "elif x<0:\n",
    "    print(\"negative number\")\n",
    "else:\n",
    "    print(\"zero\")"
   ]
  },
  {
   "cell_type": "code",
   "execution_count": null,
   "id": "a1b2c832-81a1-4e62-a11c-275598b94be3",
   "metadata": {},
   "outputs": [],
   "source": []
  },
  {
   "cell_type": "code",
   "execution_count": null,
   "id": "a0c0f9af-f7f4-4b5c-ac42-724875dfa4d2",
   "metadata": {},
   "outputs": [],
   "source": [
    "19. Character Case Converter\n",
    "Ask the user to enter a single character.\n",
    "\n",
    "If the character is uppercase, convert it to lowercase and print it.\n",
    "If the character is lowercase, convert it to uppercase and print it.\n",
    "If the input is not an alphabet letter, print \"Not a letter\"."
   ]
  },
  {
   "cell_type": "code",
   "execution_count": 95,
   "id": "280cd2b3-fadf-4c53-9ce8-90129576a269",
   "metadata": {},
   "outputs": [
    {
     "name": "stdin",
     "output_type": "stream",
     "text": [
      "enter the character D\n"
     ]
    },
    {
     "name": "stdout",
     "output_type": "stream",
     "text": [
      "d\n"
     ]
    }
   ],
   "source": [
    "x = input(\"enter the character\")\n",
    "if x.isupper():\n",
    "    y = x.lower()\n",
    "    print(y)\n",
    "elif x.islower():\n",
    "    y = x.upper()\n",
    "    print(y)\n",
    "else:\n",
    "    print(\"not a letter\")"
   ]
  },
  {
   "cell_type": "code",
   "execution_count": null,
   "id": "2f942e66-fe4e-44c2-aa6d-d5609ffc8732",
   "metadata": {},
   "outputs": [],
   "source": []
  },
  {
   "cell_type": "code",
   "execution_count": null,
   "id": "1831eebc-7a8e-4464-87f2-81bbd86316c2",
   "metadata": {},
   "outputs": [],
   "source": [
    "20.Leap Year Checker\n",
    "Ask the user to enter a year.\n",
    "\n",
    "If the year is divisible by 4, check further:\n",
    "If it is divisible by 100, check further:\n",
    "If it is divisible by 400, print \"Leap Year\".\n",
    "Otherwise, print \"Not a Leap Year\".\n",
    "Otherwise, print \"Leap Year\".\n",
    "Otherwise, print \"Not a Leap Year\""
   ]
  },
  {
   "cell_type": "code",
   "execution_count": 97,
   "id": "d2862aa6-93e8-4680-bd40-f4c87ffd4ceb",
   "metadata": {},
   "outputs": [
    {
     "name": "stdin",
     "output_type": "stream",
     "text": [
      "Enter the year:  2024\n"
     ]
    },
    {
     "name": "stdout",
     "output_type": "stream",
     "text": [
      "Leap Year\n"
     ]
    }
   ],
   "source": [
    "\n",
    "year = int(input(\"Enter the year: \"))\n",
    "\n",
    "if year % 4 == 0:\n",
    "    if year % 100 == 0:\n",
    "        if year % 400 == 0:\n",
    "            print(\"Leap Year\")\n",
    "        else:\n",
    "            print(\"Not a Leap Year\")\n",
    "    else:\n",
    "        print(\"Leap Year\")\n",
    "else:\n",
    "    print(\"Not a Leap Year\")"
   ]
  },
  {
   "cell_type": "code",
   "execution_count": null,
   "id": "b3b677d1-13cd-4aca-b301-bd6ad4dce8ff",
   "metadata": {},
   "outputs": [],
   "source": []
  },
  {
   "cell_type": "code",
   "execution_count": null,
   "id": "7e3f4dfc-e9f3-49ad-ab5a-d540c8fd8ffd",
   "metadata": {},
   "outputs": [],
   "source": [
    "21. .Letter or Digit Identifier\n",
    "Ask the user to enter a single character.\n",
    "\n",
    "If it is a letter (A-Z, a-z), print \"Letter\".\n",
    "If it is a digit (0-9), print \"Digit\".\n",
    "Otherwise, print \"Special Character\"."
   ]
  },
  {
   "cell_type": "code",
   "execution_count": 103,
   "id": "406a8d5f-bf2a-4b85-80f1-8820f5e69970",
   "metadata": {},
   "outputs": [
    {
     "name": "stdin",
     "output_type": "stream",
     "text": [
      "enter the character: *\n"
     ]
    },
    {
     "name": "stdout",
     "output_type": "stream",
     "text": [
      "special_character\n"
     ]
    }
   ],
   "source": [
    "x = input(\"enter the character:\")\n",
    "if x.isalpha():\n",
    "    print(\"letter\")\n",
    "elif x.isdigit():\n",
    "    print(\"digit\")\n",
    "else:\n",
    "    print(\"special_character\")"
   ]
  },
  {
   "cell_type": "code",
   "execution_count": null,
   "id": "df553d2d-65c0-42d9-973b-36826e7a9984",
   "metadata": {},
   "outputs": [],
   "source": []
  },
  {
   "cell_type": "code",
   "execution_count": null,
   "id": "65a1d049-40af-4053-807d-c63783eef2a7",
   "metadata": {},
   "outputs": [],
   "source": [
    "22 .  Student Grade Calculator\n",
    "Modify the previous program to also determine the grade based on percentage:\n",
    "\n",
    "90% and above → \"Grade A\"\n",
    "80% - 89% → \"Grade B\"\n",
    "70% - 79% → \"Grade C\"\n",
    "60% - 69% → \"Grade D\"\n",
    "Below 60% → \"Fail\""
   ]
  },
  {
   "cell_type": "code",
   "execution_count": 107,
   "id": "396e4660-a913-4547-ab8c-52605dc81646",
   "metadata": {},
   "outputs": [
    {
     "name": "stdin",
     "output_type": "stream",
     "text": [
      " 100\n",
      " 90\n",
      " 80\n",
      " 70\n",
      " 60\n"
     ]
    },
    {
     "name": "stdout",
     "output_type": "stream",
     "text": [
      "400.0\n",
      "80.0\n",
      "grade b\n"
     ]
    }
   ],
   "source": [
    "a=float(input())\n",
    "b=float(input())\n",
    "c=float(input())\n",
    "d=float(input())\n",
    "e=float(input())\n",
    "total = a + b + c + d + e\n",
    "percent = (total/500)*100\n",
    "print(total)\n",
    "print(percent)\n",
    "\n",
    "if percent > 90:\n",
    "    print(\"grade a\")\n",
    "elif 80<= percent <=89:\n",
    "    print(\"grade b\")\n",
    "elif 70<= percent <= 79:\n",
    "    print(\"grade c\")\n",
    "elif 60<= percent <=69:\n",
    "    print(\"grade d\")\n",
    "else:\n",
    "    print(\"fail\")\n"
   ]
  },
  {
   "cell_type": "code",
   "execution_count": null,
   "id": "edcb2223-eedc-41f1-aa85-54d5b399c0ed",
   "metadata": {},
   "outputs": [],
   "source": []
  },
  {
   "cell_type": "code",
   "execution_count": null,
   "id": "d4eb1d20-47c4-4545-937c-4ad58b104dfe",
   "metadata": {},
   "outputs": [],
   "source": [
    "23 weighted grade calcualtor:\n",
    "Each subject has different weightage:\n",
    "\n",
    "Math: 30%\n",
    "Science: 25%\n",
    "English: 20%\n",
    "History: 15%\n",
    "Geography: 10%\n",
    "Ask the user for marks in each subject and calculate the weighted average percentage."
   ]
  },
  {
   "cell_type": "code",
   "execution_count": 109,
   "id": "eccc34a3-2c23-44d5-b61b-87cdbf16ca14",
   "metadata": {},
   "outputs": [
    {
     "name": "stdin",
     "output_type": "stream",
     "text": [
      "Enter marks in Math:  99\n",
      "Enter marks in Science:  99\n",
      "Enter marks in English:  09\n",
      "Enter marks in History:  89\n",
      "Enter marks in Geography:  23\n"
     ]
    },
    {
     "name": "stdout",
     "output_type": "stream",
     "text": [
      "The weighted average percentage is: 71.90%\n"
     ]
    }
   ],
   "source": [
    "def weighted_marks_calculator():\n",
    "    # Define the weightage for each subject\n",
    "    weights = {\n",
    "        'Math': 0.30,\n",
    "        'Science': 0.25,\n",
    "        'English': 0.20,\n",
    "        'History': 0.15,\n",
    "        'Geography': 0.10\n",
    "    }\n",
    "    \n",
    "    # Ask the user for marks in each subject\n",
    "    math_marks = float(input(\"Enter marks in Math: \"))\n",
    "    science_marks = float(input(\"Enter marks in Science: \"))\n",
    "    english_marks = float(input(\"Enter marks in English: \"))\n",
    "    history_marks = float(input(\"Enter marks in History: \"))\n",
    "    geography_marks = float(input(\"Enter marks in Geography: \"))\n",
    "    \n",
    "    # Calculate the weighted average percentage\n",
    "    weighted_average = (\n",
    "        (math_marks * weights['Math']) +\n",
    "        (science_marks * weights['Science']) +\n",
    "        (english_marks * weights['English']) +\n",
    "        (history_marks * weights['History']) +\n",
    "        (geography_marks * weights['Geography'])\n",
    "    )\n",
    "    \n",
    "    # Print the weighted average percentage\n",
    "    print(f\"The weighted average percentage is: {weighted_average:.2f}%\")\n",
    "\n",
    "# Call the function to calculate the weighted average percentage\n",
    "weighted_marks_calculator()"
   ]
  },
  {
   "cell_type": "code",
   "execution_count": null,
   "id": "cbf20704-09d8-4b0b-86e0-cf8e4cfc449f",
   "metadata": {},
   "outputs": [],
   "source": []
  },
  {
   "cell_type": "code",
   "execution_count": null,
   "id": "f9baa520-ba13-4554-b634-b5383f1befe5",
   "metadata": {},
   "outputs": [],
   "source": [
    "# 24.TO CHECK A NUMBER IS POSITIVE , NEGATIVE OR ZERO:"
   ]
  },
  {
   "cell_type": "code",
   "execution_count": 113,
   "id": "9e0a9890-dca6-49ba-adf6-d8b44255e022",
   "metadata": {},
   "outputs": [
    {
     "name": "stdin",
     "output_type": "stream",
     "text": [
      "enter the number 5\n"
     ]
    },
    {
     "name": "stdout",
     "output_type": "stream",
     "text": [
      "positive no\n"
     ]
    }
   ],
   "source": [
    "\n",
    "x = int(input(\"enter the number\"))\n",
    "\n",
    "if x>0:\n",
    "    print(\"positive no\")\n",
    "\n",
    "elif x<0:\n",
    "    print(\"negative number\")\n",
    "\n",
    "else:\n",
    "    print(\"it is a zero\")"
   ]
  },
  {
   "cell_type": "code",
   "execution_count": null,
   "id": "15d1a1d0-ec0a-450b-bcdf-cd8f6882c0dd",
   "metadata": {},
   "outputs": [],
   "source": []
  },
  {
   "cell_type": "code",
   "execution_count": null,
   "id": "48b9cdf9-4a9b-4aa7-b15f-bb4746332ef9",
   "metadata": {},
   "outputs": [],
   "source": [
    "# 25  find the largest of three numbers:"
   ]
  },
  {
   "cell_type": "code",
   "execution_count": 1,
   "id": "2fc248a7-870d-447a-af47-127a4e4d2134",
   "metadata": {},
   "outputs": [
    {
     "name": "stdin",
     "output_type": "stream",
     "text": [
      " 5\n",
      " 4\n",
      " 6\n"
     ]
    },
    {
     "name": "stdout",
     "output_type": "stream",
     "text": [
      "z is the greatest\n"
     ]
    }
   ],
   "source": [
    "x = int(input())\n",
    "y = int(input())\n",
    "z = int(input())\n",
    "\n",
    "if x>y and x>z:\n",
    "    print(\"x is the greatest\")\n",
    "elif y>x and y>z:\n",
    "    print(\"y is the greatest\")\n",
    "else:\n",
    "    print(\"z is the greatest\")\n"
   ]
  },
  {
   "cell_type": "code",
   "execution_count": null,
   "id": "71ccbf60-d7be-4cf7-a189-6cb632b65b43",
   "metadata": {},
   "outputs": [],
   "source": []
  },
  {
   "cell_type": "code",
   "execution_count": 3,
   "id": "49dcf2d4-8def-4da5-a53e-7bee06821b6f",
   "metadata": {},
   "outputs": [],
   "source": [
    "# 26 . program to check the if the cuberoot of a number exist or not:"
   ]
  },
  {
   "cell_type": "code",
   "execution_count": 7,
   "id": "39cddcd3-27c2-4f25-b52e-1bd283a46d30",
   "metadata": {},
   "outputs": [
    {
     "name": "stdin",
     "output_type": "stream",
     "text": [
      "enter the number 34\n"
     ]
    },
    {
     "name": "stdout",
     "output_type": "stream",
     "text": [
      "cube_root_not_exits\n"
     ]
    }
   ],
   "source": [
    "x = int(input(\"enter the number\"))\n",
    "cuberoot = round(x**(1/3))\n",
    "cube=cuberoot**3\n",
    "if x==cube:\n",
    "    print(\"cube_root_exist\")\n",
    "else:\n",
    "    print(\"cube_root_not_exits\")"
   ]
  },
  {
   "cell_type": "code",
   "execution_count": null,
   "id": "7f6f3fac-3eae-45b8-bfc0-ced4a967934a",
   "metadata": {},
   "outputs": [],
   "source": []
  },
  {
   "cell_type": "markdown",
   "id": "38510916-a9ca-4ce4-9e0a-e6b04f01ce32",
   "metadata": {},
   "source": [
    "# questions on practical scenerio:"
   ]
  },
  {
   "cell_type": "code",
   "execution_count": null,
   "id": "6cc2e263-9280-44b5-97b8-41f10c905b84",
   "metadata": {},
   "outputs": [],
   "source": [
    "# Question 1: Calculate the final price after tax\n",
    "# A store adds a 5% tax on the total price.\n",
    "# a. Ask the user for the number of items bought.\n",
    "# b. Each item costs 250.\n",
    "# c. Calculate and print the total price including tax."
   ]
  },
  {
   "cell_type": "code",
   "execution_count": 12,
   "id": "cb755c6b-d89f-446c-a939-c330096f6d7a",
   "metadata": {},
   "outputs": [
    {
     "name": "stdin",
     "output_type": "stream",
     "text": [
      "enter the units 5\n"
     ]
    },
    {
     "name": "stdout",
     "output_type": "stream",
     "text": [
      "1187.5\n"
     ]
    }
   ],
   "source": [
    "item_cost = 250\n",
    "no_of_units = int(input(\"enter the units\"))\n",
    "total_price = item_cost * no_of_units\n",
    "tax = total_price * 0.05\n",
    "new_price = total_price - tax\n",
    "print(new_price)"
   ]
  },
  {
   "cell_type": "code",
   "execution_count": null,
   "id": "00e158b8-be05-4deb-849b-5e92cff2a475",
   "metadata": {},
   "outputs": [],
   "source": []
  },
  {
   "cell_type": "code",
   "execution_count": null,
   "id": "4625ed8b-998d-4574-9a66-7f0d3c21cc7e",
   "metadata": {},
   "outputs": [],
   "source": [
    "# Question 2: Calculate the final price of a discounted item\n",
    "# A store gives a discount of 20% if the total price is above 500.\n",
    "# a. Ask the user for the number of items they want to buy.\n",
    "# b. Each item costs 80.\n",
    "# c. Calculate and print the total price after applying the discount if applicable."
   ]
  },
  {
   "cell_type": "code",
   "execution_count": 16,
   "id": "9ec8987d-a1ff-4e56-bad8-aa3e02d834a2",
   "metadata": {},
   "outputs": [
    {
     "name": "stdin",
     "output_type": "stream",
     "text": [
      "enter units 2\n"
     ]
    },
    {
     "name": "stdout",
     "output_type": "stream",
     "text": [
      "160\n"
     ]
    }
   ],
   "source": [
    "item_cost = 80\n",
    "units = int(input(\"enter units\"))\n",
    "total_cost = item_cost * units\n",
    "if total_cost > 500:\n",
    "    discount = total_cost*0.2\n",
    "    new_price = total_cost - discount\n",
    "    print(new_price)\n",
    "else:\n",
    "    print(total_cost)\n"
   ]
  },
  {
   "cell_type": "code",
   "execution_count": null,
   "id": "9324f843-21b4-40db-b075-78c026b5ca60",
   "metadata": {},
   "outputs": [],
   "source": []
  },
  {
   "cell_type": "code",
   "execution_count": null,
   "id": "1680433b-9d71-467d-8186-14bf4c9e5299",
   "metadata": {},
   "outputs": [],
   "source": [
    "# Question 3: Calculate the cost for a car rental\n",
    "# A car rental charges 50 per day.\n",
    "# a. Ask the user for the number of days the car was rented.\n",
    "# b. If the rental is for more than 7 days, a discount of 15% is given.\n",
    "# c. Calculate and print the total rental cost.\n"
   ]
  },
  {
   "cell_type": "code",
   "execution_count": 18,
   "id": "7b4427c8-631e-4b41-b6e8-202239df7ed6",
   "metadata": {},
   "outputs": [
    {
     "name": "stdin",
     "output_type": "stream",
     "text": [
      "enter the number of days: 23\n"
     ]
    },
    {
     "name": "stdout",
     "output_type": "stream",
     "text": [
      "977.5\n"
     ]
    }
   ],
   "source": [
    "days = int(input(\"enter the number of days:\"))\n",
    "charge = 50\n",
    "price = charge * days\n",
    "if days>7:\n",
    "    discount = price*(0.15)\n",
    "    new_price = price-discount\n",
    "    print(new_price)\n",
    "else:\n",
    "    print(price)\n",
    "    \n",
    "    "
   ]
  },
  {
   "cell_type": "code",
   "execution_count": null,
   "id": "9fefc3c3-9b37-4c04-afaa-52489a8178cf",
   "metadata": {},
   "outputs": [],
   "source": []
  },
  {
   "cell_type": "code",
   "execution_count": null,
   "id": "6d99ba03-6161-4597-8d4f-4c283dde5a99",
   "metadata": {},
   "outputs": [],
   "source": [
    "# # Question 4: Calculate the final amount for a bank deposit\n",
    "# A bank offers 3% annual interest on deposits.\n",
    "# a. Ask the user for the initial deposit amount.\n",
    "# b. Calculate and print the total amount after one year, including the interest."
   ]
  },
  {
   "cell_type": "code",
   "execution_count": 22,
   "id": "9e3b9f83-6477-4e8c-8983-a2a9133af1e7",
   "metadata": {},
   "outputs": [
    {
     "name": "stdin",
     "output_type": "stream",
     "text": [
      "enter the amount: 80000\n"
     ]
    },
    {
     "name": "stdout",
     "output_type": "stream",
     "text": [
      "82400.0\n"
     ]
    }
   ],
   "source": [
    "deposits = float(input(\"enter the amount:\"))\n",
    "interest = deposits*0.03\n",
    "new_amount = deposits + interest\n",
    "print(new_amount)"
   ]
  },
  {
   "cell_type": "code",
   "execution_count": null,
   "id": "9d91487d-9f26-465f-8d11-a45ad27061a0",
   "metadata": {},
   "outputs": [],
   "source": []
  },
  {
   "cell_type": "code",
   "execution_count": null,
   "id": "b8d64d59-1888-4ef0-95f0-edf6f33dd6f5",
   "metadata": {},
   "outputs": [],
   "source": [
    "Question 5: Calculate the total cost of shopping with a membership card\n",
    "A shopping mall offers a 10% discount to members.\n",
    "a. Ask the user for the total shopping amount.\n",
    "b. Ask if they are a member (yes/no).\n",
    "c. If they are a member, apply the discount and print the final amount to be paid."
   ]
  },
  {
   "cell_type": "code",
   "execution_count": 24,
   "id": "383e1f6c-e521-4be9-8202-11d6baeb1ec4",
   "metadata": {},
   "outputs": [
    {
     "name": "stdin",
     "output_type": "stream",
     "text": [
      "enter the amount: 1200\n",
      " yes\n"
     ]
    },
    {
     "name": "stdout",
     "output_type": "stream",
     "text": [
      "1080.0\n"
     ]
    }
   ],
   "source": [
    "amount = float(input(\"enter the amount:\"))\n",
    "membership = input().strip().lower()\n",
    "if membership == \"yes\":\n",
    "    discount = amount*0.1\n",
    "    new_amount = amount-discount\n",
    "    print(new_amount)\n",
    "else:\n",
    "    print(\"no_discount\")"
   ]
  },
  {
   "cell_type": "code",
   "execution_count": null,
   "id": "2e8ca187-a2d2-4a11-b48e-c27d1dafc7c7",
   "metadata": {},
   "outputs": [],
   "source": []
  }
 ],
 "metadata": {
  "kernelspec": {
   "display_name": "Python 3 (ipykernel)",
   "language": "python",
   "name": "python3"
  },
  "language_info": {
   "codemirror_mode": {
    "name": "ipython",
    "version": 3
   },
   "file_extension": ".py",
   "mimetype": "text/x-python",
   "name": "python",
   "nbconvert_exporter": "python",
   "pygments_lexer": "ipython3",
   "version": "3.12.7"
  }
 },
 "nbformat": 4,
 "nbformat_minor": 5
}
